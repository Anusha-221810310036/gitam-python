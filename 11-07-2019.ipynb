{
 "cells": [
  {
   "cell_type": "markdown",
   "metadata": {},
   "source": [
    "# Standard Libraries\n",
    " - File I/O\n",
    " - Regular Exppression \n",
    " - Datetime\n",
    " - Math (numerical and Mathematical"
   ]
  },
  {
   "cell_type": "markdown",
   "metadata": {},
   "source": [
    "### File Handling in Python\n",
    " - File :- Document containing information resides on the permanent storage\n",
    " - Different types of files :- txt,doc,pdf,csv and etc...\n",
    " - Input -- Keyboard\n",
    " - Output -- File\n",
    "### Modes of the File I/O\n",
    " - 'w' -- This mode is used to file writing\n",
    "         -- If the file is not present first it creates the file and write the data to it \n",
    "         -- If the file is already present then it will rewrite the previous content"
   ]
  },
  {
   "cell_type": "code",
   "execution_count": 2,
   "metadata": {},
   "outputs": [
    {
     "name": "stdout",
     "output_type": "stream",
     "text": [
      "File is created and data has written\n"
     ]
    }
   ],
   "source": [
    "# Function to createa file and write to the file \n",
    "def createfile(filename):\n",
    "    f = open(filename,'w')\n",
    "    for i in range(10):\n",
    "        f.write('This is %d Line\\n' %i)\n",
    "    print(\"File is created and data has written\")\n",
    "    return\n",
    "createfile('file1.txt')"
   ]
  },
  {
   "cell_type": "code",
   "execution_count": 3,
   "metadata": {},
   "outputs": [
    {
     "name": "stdout",
     "output_type": "stream",
     "text": [
      "09-07-19.ipynb    \u001b[0m\u001b[01;34mDesktop\u001b[0m/          file1.txt  \u001b[01;34mTemplates\u001b[0m/       Untitled.ipynb\r\n",
      "10-07-19.ipynb    \u001b[01;34mDocuments\u001b[0m/        \u001b[01;34mMusic\u001b[0m/     Untitled1.ipynb  \u001b[01;34mVideos\u001b[0m/\r\n",
      "11-07-2019.ipynb  \u001b[01;34mDownloads\u001b[0m/        \u001b[01;34mPictures\u001b[0m/  Untitled2.ipynb\r\n",
      "\u001b[01;34manaconda3\u001b[0m/        examples.desktop  \u001b[01;34mPublic\u001b[0m/    Untitled5.ipynb\r\n"
     ]
    }
   ],
   "source": [
    "ls\n"
   ]
  },
  {
   "cell_type": "code",
   "execution_count": 4,
   "metadata": {},
   "outputs": [
    {
     "name": "stdout",
     "output_type": "stream",
     "text": [
      "File is created and data has written\n"
     ]
    }
   ],
   "source": [
    "def createfile(filename):\n",
    "    f = open(filename,'w')\n",
    "    f.write('Testing...\\n')\n",
    "    print(\"File is created and data has written\")\n",
    "    return\n",
    "createfile('file1.txt')"
   ]
  },
  {
   "cell_type": "code",
   "execution_count": 6,
   "metadata": {},
   "outputs": [
    {
     "name": "stdout",
     "output_type": "stream",
     "text": [
      "File Created and Successfully data written\n"
     ]
    }
   ],
   "source": [
    "def appendData(filename):\n",
    "    f = open(filename,'a')\n",
    "    for i in range(10):\n",
    "        f.write(\"This is %d Line\\n\" % i)\n",
    "    print(\"File Created and Successfully data written\")\n",
    "    return\n",
    "appendData('file2.txt')"
   ]
  },
  {
   "cell_type": "code",
   "execution_count": 7,
   "metadata": {},
   "outputs": [
    {
     "name": "stdout",
     "output_type": "stream",
     "text": [
      "File created and successfully data written\n"
     ]
    }
   ],
   "source": [
    "def appendData(filename):\n",
    "    f = open(filename,'a')\n",
    "    f.write(\"New Line1\\n\")\n",
    "    f.write(\"New Line2\\n\")\n",
    "    print(\"File created and successfully data written\")\n",
    "    return\n",
    "appendData('file2.txt')"
   ]
  },
  {
   "cell_type": "code",
   "execution_count": 9,
   "metadata": {},
   "outputs": [
    {
     "name": "stdout",
     "output_type": "stream",
     "text": [
      "This is 0 Line\n",
      "This is 1 Line\n",
      "This is 2 Line\n",
      "This is 3 Line\n",
      "This is 4 Line\n",
      "This is 5 Line\n",
      "This is 6 Line\n",
      "This is 7 Line\n",
      "This is 8 Line\n",
      "This is 9 Line\n",
      "New Line1\n",
      "New Line2\n",
      "\n"
     ]
    }
   ],
   "source": [
    "# Function to read the file \n",
    "def readFileData(filename):\n",
    "    f = open(filename,'r')\n",
    "    if f.mode == 'r':\n",
    "        x = f.read()\n",
    "        print(x)\n",
    "    f.close()\n",
    "    return\n",
    "readFileData('file2.txt')"
   ]
  },
  {
   "cell_type": "code",
   "execution_count": 18,
   "metadata": {},
   "outputs": [
    {
     "name": "stdout",
     "output_type": "stream",
     "text": [
      "Enter the file namefile2.txt\n",
      "Enter the mode of the filer\n",
      "This is 0 Line\n",
      "This is 1 Line\n",
      "This is 2 Line\n",
      "This is 3 Line\n",
      "This is 4 Line\n",
      "This is 5 Line\n",
      "This is 6 Line\n",
      "This is 7 Line\n",
      "This is 8 Line\n",
      "This is 9 Line\n",
      "New Line1\n",
      "New Line2\n",
      "\n"
     ]
    }
   ],
   "source": [
    "# Function to read the file\n",
    "def fileOperations(filename,mode):\n",
    "    with open(filename,mode) as f:\n",
    "        if f.mode == 'r':\n",
    "             data = f.read()\n",
    "             print(data)\n",
    "        elif f.mode == 'a':\n",
    "            f.write('Data to the file\\n')\n",
    "            print('The data successfully written')\n",
    "    f.close()\n",
    "    return\n",
    "filename = input('Enter the file name')\n",
    "mode = input('Enter the mode of the file')\n",
    "fileOperations(filename,mode)"
   ]
  },
  {
   "cell_type": "code",
   "execution_count": 26,
   "metadata": {},
   "outputs": [
    {
     "name": "stdout",
     "output_type": "stream",
     "text": [
      "Enter the file name :file2.txt\n",
      "Enter the word :This\n"
     ]
    },
    {
     "data": {
      "text/plain": [
       "10"
      ]
     },
     "execution_count": 26,
     "metadata": {},
     "output_type": "execute_result"
    }
   ],
   "source": [
    "# Data analysis\n",
    "# Word Count Program\n",
    "def wordCount(filename,word):\n",
    "    with open(filename,'r') as f:\n",
    "        if f.mode == 'r':\n",
    "            x = f.read()\n",
    "            li = x.split()\n",
    "    cnt = li.count(word)        \n",
    "    return cnt\n",
    "filename = input('Enter the file name :')\n",
    "word = input('Enter the word :')\n",
    "wordCount(filename,word)"
   ]
  },
  {
   "cell_type": "code",
   "execution_count": 29,
   "metadata": {},
   "outputs": [
    {
     "name": "stdout",
     "output_type": "stream",
     "text": [
      "Enter the filename:file2.txt\n"
     ]
    },
    {
     "data": {
      "text/plain": [
       "170"
      ]
     },
     "execution_count": 29,
     "metadata": {},
     "output_type": "execute_result"
    }
   ],
   "source": [
    "# Character count from the given file\n",
    "def charCount(filename):\n",
    "    with open(filename) as f:\n",
    "        if f.mode == 'r':\n",
    "            x = f.read()\n",
    "            li = list(x) # Convert the string - char\n",
    "    return len(li)\n",
    "filename = input('Enter the filename:')\n",
    "charCount(filename)"
   ]
  },
  {
   "cell_type": "code",
   "execution_count": 31,
   "metadata": {},
   "outputs": [
    {
     "name": "stdout",
     "output_type": "stream",
     "text": [
      "Enter the filename :file2.txt\n"
     ]
    },
    {
     "data": {
      "text/plain": [
       "13"
      ]
     },
     "execution_count": 31,
     "metadata": {},
     "output_type": "execute_result"
    }
   ],
   "source": [
    "# Function to find the no.of lines in the input file\n",
    "# Input -- filename(file2.txt)\n",
    "# Output -- No of Lines(12)\n",
    "def countOfLines(filename):\n",
    "    with open(filename,'r') as f:\n",
    "        if f.mode == 'r':\n",
    "             x = f.read()\n",
    "             li = x.split(\"\\n\")\n",
    "    return len(li)\n",
    "filename = input('Enter the filename :')\n",
    "countOfLines(filename)"
   ]
  },
  {
   "cell_type": "code",
   "execution_count": 37,
   "metadata": {},
   "outputs": [
    {
     "name": "stdout",
     "output_type": "stream",
     "text": [
      "Enter the filename :file2.txt\n"
     ]
    },
    {
     "data": {
      "text/plain": [
       "'Upper Case = 24 , Lower Case = 90'"
      ]
     },
     "execution_count": 37,
     "metadata": {},
     "output_type": "execute_result"
    }
   ],
   "source": [
    "# Function to print the Upper and Lower characters\n",
    "def caseCount(filename):\n",
    "    cntUpper = 0\n",
    "    cntLower = 0\n",
    "    with open(filename,'r') as f:\n",
    "        if f.mode == 'r':\n",
    "            x = f.read()\n",
    "            li = list(x)\n",
    "    for i in li:\n",
    "        if i.isupper():\n",
    "            cntUpper += 1 # cntUpper = cntUpper + 1\n",
    "        elif i.islower():\n",
    "            cntLower += 1 # cntLower = cntLower + 1\n",
    "    output = 'Upper Case = {0} , Lower Case = {1}' .format(cntUpper,cntLower)\n",
    "    return output\n",
    "filename = input('Enter the filename :')\n",
    "caseCount(filename)"
   ]
  },
  {
   "cell_type": "markdown",
   "metadata": {},
   "source": [
    "# Math,Random,OS\n",
    " - on package it contains the contains method which work with OS\n",
    " "
   ]
  },
  {
   "cell_type": "code",
   "execution_count": 38,
   "metadata": {},
   "outputs": [
    {
     "name": "stdout",
     "output_type": "stream",
     "text": [
      "05-07-2019.ipynb  11-07-2019.ipynb  examples.desktop  \u001b[0m\u001b[01;34mPublic\u001b[0m/\r\n",
      "06-07-2019.ipynb  \u001b[01;34manaconda3\u001b[0m/        file1.txt         \u001b[01;34mTemplates\u001b[0m/\r\n",
      "08-07-2019.ipynb  \u001b[01;34mDesktop\u001b[0m/          file2.txt         Untitled5.ipynb\r\n",
      "09-07-19.ipynb    \u001b[01;34mDocuments\u001b[0m/        \u001b[01;34mMusic\u001b[0m/            \u001b[01;34mVideos\u001b[0m/\r\n",
      "10-07-19.ipynb    \u001b[01;34mDownloads\u001b[0m/        \u001b[01;34mPictures\u001b[0m/\r\n"
     ]
    }
   ],
   "source": [
    "ls"
   ]
  },
  {
   "cell_type": "code",
   "execution_count": 39,
   "metadata": {},
   "outputs": [
    {
     "name": "stdout",
     "output_type": "stream",
     "text": [
      "[Errno 2] No such file or directory: 'Desktop/PythonProg'\n",
      "/home/student\n"
     ]
    }
   ],
   "source": [
    "cd Desktop/PythonProg"
   ]
  },
  {
   "cell_type": "code",
   "execution_count": 40,
   "metadata": {},
   "outputs": [
    {
     "name": "stdout",
     "output_type": "stream",
     "text": [
      "05-07-2019.ipynb  11-07-2019.ipynb  examples.desktop  \u001b[0m\u001b[01;34mPublic\u001b[0m/\r\n",
      "06-07-2019.ipynb  \u001b[01;34manaconda3\u001b[0m/        file1.txt         \u001b[01;34mTemplates\u001b[0m/\r\n",
      "08-07-2019.ipynb  \u001b[01;34mDesktop\u001b[0m/          file2.txt         Untitled5.ipynb\r\n",
      "09-07-19.ipynb    \u001b[01;34mDocuments\u001b[0m/        \u001b[01;34mMusic\u001b[0m/            \u001b[01;34mVideos\u001b[0m/\r\n",
      "10-07-19.ipynb    \u001b[01;34mDownloads\u001b[0m/        \u001b[01;34mPictures\u001b[0m/\r\n"
     ]
    }
   ],
   "source": [
    "ls"
   ]
  },
  {
   "cell_type": "code",
   "execution_count": 41,
   "metadata": {},
   "outputs": [
    {
     "data": {
      "text/plain": [
       "['10-07-19.ipynb',\n",
       " 'Templates',\n",
       " 'file2.txt',\n",
       " '08-07-2019.ipynb',\n",
       " '.config',\n",
       " '06-07-2019.ipynb',\n",
       " 'Music',\n",
       " '11-07-2019.ipynb',\n",
       " 'Videos',\n",
       " '.cache',\n",
       " '.local',\n",
       " '.compiz',\n",
       " '.profile',\n",
       " '.bash_logout',\n",
       " 'examples.desktop',\n",
       " '.ipython',\n",
       " 'Desktop',\n",
       " '.ipynb_checkpoints',\n",
       " '09-07-19.ipynb',\n",
       " 'Untitled5.ipynb',\n",
       " '05-07-2019.ipynb',\n",
       " '.pki',\n",
       " 'file1.txt',\n",
       " 'Public',\n",
       " '.xsession-errors',\n",
       " '.ICEauthority',\n",
       " '.mozilla',\n",
       " '.gnupg',\n",
       " '.Xauthority',\n",
       " '.xsession-errors.old',\n",
       " 'anaconda3',\n",
       " 'Documents',\n",
       " 'Pictures',\n",
       " 'Downloads',\n",
       " '.ssh',\n",
       " '.bashrc',\n",
       " '.jupyter',\n",
       " '.bash_history',\n",
       " '.gconf']"
      ]
     },
     "execution_count": 41,
     "metadata": {},
     "output_type": "execute_result"
    }
   ],
   "source": [
    "import os\n",
    "os.listdir()"
   ]
  },
  {
   "cell_type": "code",
   "execution_count": 44,
   "metadata": {},
   "outputs": [
    {
     "name": "stdout",
     "output_type": "stream",
     "text": [
      "user-dirs.dirs\n",
      "mimeapps.list\n",
      "user-dirs.locale\n"
     ]
    }
   ],
   "source": []
  },
  {
   "cell_type": "markdown",
   "metadata": {},
   "source": [
    " - older version python == oslistdir()\n",
    " - new version python -- os scandir() and pathib.path()"
   ]
  },
  {
   "cell_type": "code",
   "execution_count": 45,
   "metadata": {},
   "outputs": [
    {
     "name": "stdout",
     "output_type": "stream",
     "text": [
      "<DirEntry 'dconf'>\n",
      "<DirEntry 'user-dirs.dirs'>\n",
      "<DirEntry 'ibus'>\n",
      "<DirEntry 'upstart'>\n",
      "<DirEntry 'gedit'>\n",
      "<DirEntry 'pulse'>\n",
      "<DirEntry 'evolution'>\n",
      "<DirEntry 'mimeapps.list'>\n",
      "<DirEntry 'libaccounts-glib'>\n",
      "<DirEntry 'gtk-3.0'>\n",
      "<DirEntry 'nautilus'>\n",
      "<DirEntry 'gnome-session'>\n",
      "<DirEntry 'compiz-1'>\n",
      "<DirEntry 'google-chrome'>\n",
      "<DirEntry 'update-notifier'>\n",
      "<DirEntry 'unity'>\n",
      "<DirEntry 'user-dirs.locale'>\n"
     ]
    }
   ],
   "source": [
    "li = os.scandir('.config')\n",
    "for i in li:\n",
    "    print(i)"
   ]
  },
  {
   "cell_type": "code",
   "execution_count": 46,
   "metadata": {},
   "outputs": [
    {
     "name": "stdout",
     "output_type": "stream",
     "text": [
      "user-dirs.dirs\n",
      "mimeapps.list\n",
      "user-dirs.locale\n"
     ]
    }
   ],
   "source": [
    "import os\n",
    "dirPath = \".config\"\n",
    "for i in os.listdir(dirPath):\n",
    "    if os.path.isfile(os.path.join(dirPath,i)):\n",
    "        print(i)"
   ]
  },
  {
   "cell_type": "code",
   "execution_count": 47,
   "metadata": {},
   "outputs": [
    {
     "name": "stdout",
     "output_type": "stream",
     "text": [
      "dconf\n",
      "user-dirs.dirs\n",
      "ibus\n",
      "upstart\n",
      "gedit\n",
      "pulse\n",
      "evolution\n",
      "mimeapps.list\n",
      "libaccounts-glib\n",
      "gtk-3.0\n",
      "nautilus\n",
      "gnome-session\n",
      "compiz-1\n",
      "google-chrome\n",
      "update-notifier\n",
      "unity\n",
      "user-dirs.locale\n"
     ]
    }
   ],
   "source": [
    "li = os.listdir(\".config\")\n",
    "for i in li:\n",
    "    print(i)"
   ]
  },
  {
   "cell_type": "code",
   "execution_count": 48,
   "metadata": {},
   "outputs": [
    {
     "data": {
      "text/plain": [
       "'/home/student'"
      ]
     },
     "execution_count": 48,
     "metadata": {},
     "output_type": "execute_result"
    }
   ],
   "source": [
    "pwd"
   ]
  },
  {
   "cell_type": "markdown",
   "metadata": {},
   "source": [
    "# Listing subdirectories\n"
   ]
  },
  {
   "cell_type": "code",
   "execution_count": 49,
   "metadata": {},
   "outputs": [
    {
     "name": "stdout",
     "output_type": "stream",
     "text": [
      "dconf\n",
      "ibus\n",
      "upstart\n",
      "gedit\n",
      "pulse\n",
      "evolution\n",
      "libaccounts-glib\n",
      "gtk-3.0\n",
      "nautilus\n",
      "gnome-session\n",
      "compiz-1\n",
      "google-chrome\n",
      "update-notifier\n",
      "unity\n"
     ]
    }
   ],
   "source": [
    "dirPath = \".config\"\n",
    "for i in os.listdir(dirPath):\n",
    "    if os.path.isdir(os.path.join(dirPath,i)):\n",
    "        print(i)"
   ]
  },
  {
   "cell_type": "code",
   "execution_count": 51,
   "metadata": {},
   "outputs": [
    {
     "name": "stdout",
     "output_type": "stream",
     "text": [
      "dconf\n",
      "ibus\n",
      "upstart\n",
      "gedit\n",
      "pulse\n",
      "evolution\n",
      "libaccounts-glib\n",
      "gtk-3.0\n",
      "nautilus\n",
      "gnome-session\n",
      "compiz-1\n",
      "google-chrome\n",
      "update-notifier\n",
      "unity\n"
     ]
    }
   ],
   "source": [
    "from pathlib import Path\n",
    "dirPath = Path('.config')\n",
    "for i in dirPath.iterdir():\n",
    "    if i.is_dir():\n",
    "        print(i.name)"
   ]
  },
  {
   "cell_type": "markdown",
   "metadata": {},
   "source": [
    "### Create a Single Directory"
   ]
  },
  {
   "cell_type": "code",
   "execution_count": 53,
   "metadata": {},
   "outputs": [],
   "source": [
    "import os\n",
    "os.mkdir('Single Directory')"
   ]
  },
  {
   "cell_type": "code",
   "execution_count": 54,
   "metadata": {},
   "outputs": [],
   "source": [
    "import pathlib\n",
    "p = pathlib.Path('TestFolder')\n",
    "p.mkdir()"
   ]
  },
  {
   "cell_type": "code",
   "execution_count": 55,
   "metadata": {},
   "outputs": [
    {
     "name": "stdout",
     "output_type": "stream",
     "text": [
      "05-07-2019.ipynb  \u001b[0m\u001b[01;34manaconda3\u001b[0m/        file2.txt          \u001b[01;34mTestFolder\u001b[0m/\r\n",
      "06-07-2019.ipynb  \u001b[01;34mDesktop\u001b[0m/          \u001b[01;34mMusic\u001b[0m/             Untitled5.ipynb\r\n",
      "08-07-2019.ipynb  \u001b[01;34mDocuments\u001b[0m/        \u001b[01;34mPictures\u001b[0m/          \u001b[01;34mVideos\u001b[0m/\r\n",
      "09-07-19.ipynb    \u001b[01;34mDownloads\u001b[0m/        \u001b[01;34mPublic\u001b[0m/\r\n",
      "10-07-19.ipynb    examples.desktop  \u001b[01;34mSingle Directory\u001b[0m/\r\n",
      "11-07-2019.ipynb  file1.txt         \u001b[01;34mTemplates\u001b[0m/\r\n"
     ]
    }
   ],
   "source": [
    "ls"
   ]
  },
  {
   "cell_type": "markdown",
   "metadata": {},
   "source": [
    "### Creating a Multiple Directory"
   ]
  },
  {
   "cell_type": "code",
   "execution_count": 57,
   "metadata": {},
   "outputs": [],
   "source": [
    "import os\n",
    "os.makedirs('2019/july/11')"
   ]
  },
  {
   "cell_type": "code",
   "execution_count": 58,
   "metadata": {},
   "outputs": [
    {
     "name": "stdout",
     "output_type": "stream",
     "text": [
      "05-07-2019.ipynb  \u001b[0m\u001b[01;34m2019\u001b[0m/             file1.txt          \u001b[01;34mTemplates\u001b[0m/\r\n",
      "06-07-2019.ipynb  \u001b[01;34manaconda3\u001b[0m/        file2.txt          \u001b[01;34mTestFolder\u001b[0m/\r\n",
      "08-07-2019.ipynb  \u001b[01;34mDesktop\u001b[0m/          \u001b[01;34mMusic\u001b[0m/             Untitled5.ipynb\r\n",
      "09-07-19.ipynb    \u001b[01;34mDocuments\u001b[0m/        \u001b[01;34mPictures\u001b[0m/          \u001b[01;34mVideos\u001b[0m/\r\n",
      "10-07-19.ipynb    \u001b[01;34mDownloads\u001b[0m/        \u001b[01;34mPublic\u001b[0m/\r\n",
      "11-07-2019.ipynb  examples.desktop  \u001b[01;34mSingle Directory\u001b[0m/\r\n"
     ]
    }
   ],
   "source": [
    "ls\n"
   ]
  },
  {
   "cell_type": "markdown",
   "metadata": {},
   "source": [
    "### Filename matching patterns "
   ]
  },
  {
   "cell_type": "code",
   "execution_count": 60,
   "metadata": {},
   "outputs": [],
   "source": [
    "import os\n",
    "dirPath = '.config'\n",
    "for f_name in os.listdir(dirPath):\n",
    "    if f_name.startswith('0'):\n",
    "        print(f_name)"
   ]
  },
  {
   "cell_type": "code",
   "execution_count": 61,
   "metadata": {},
   "outputs": [
    {
     "name": "stdout",
     "output_type": "stream",
     "text": [
      "05-07-2019.ipynb  \u001b[0m\u001b[01;34m2019\u001b[0m/             file1.txt          \u001b[01;34mTemplates\u001b[0m/\r\n",
      "06-07-2019.ipynb  \u001b[01;34manaconda3\u001b[0m/        file2.txt          \u001b[01;34mTestFolder\u001b[0m/\r\n",
      "08-07-2019.ipynb  \u001b[01;34mDesktop\u001b[0m/          \u001b[01;34mMusic\u001b[0m/             Untitled5.ipynb\r\n",
      "09-07-19.ipynb    \u001b[01;34mDocuments\u001b[0m/        \u001b[01;34mPictures\u001b[0m/          \u001b[01;34mVideos\u001b[0m/\r\n",
      "10-07-19.ipynb    \u001b[01;34mDownloads\u001b[0m/        \u001b[01;34mPublic\u001b[0m/\r\n",
      "11-07-2019.ipynb  examples.desktop  \u001b[01;34mSingle Directory\u001b[0m/\r\n"
     ]
    }
   ],
   "source": [
    "ls"
   ]
  },
  {
   "cell_type": "code",
   "execution_count": 64,
   "metadata": {},
   "outputs": [],
   "source": [
    "import shutil\n",
    "data_dir = '2019'\n",
    "shutil.rmtree(data_dir)"
   ]
  },
  {
   "cell_type": "code",
   "execution_count": null,
   "metadata": {},
   "outputs": [],
   "source": []
  }
 ],
 "metadata": {
  "kernelspec": {
   "display_name": "Python 3",
   "language": "python",
   "name": "python3"
  },
  "language_info": {
   "codemirror_mode": {
    "name": "ipython",
    "version": 3
   },
   "file_extension": ".py",
   "mimetype": "text/x-python",
   "name": "python",
   "nbconvert_exporter": "python",
   "pygments_lexer": "ipython3",
   "version": "3.7.3"
  }
 },
 "nbformat": 4,
 "nbformat_minor": 2
}
