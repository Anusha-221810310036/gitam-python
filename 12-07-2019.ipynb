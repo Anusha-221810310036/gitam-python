{
 "cells": [
  {
   "cell_type": "markdown",
   "metadata": {},
   "source": [
    "### Regular Expression\n",
    " - Pattern Matching\n",
    " - Patterns(re) package\n",
    " - [0-9] --> Any digit matching\n",
    " \n",
    "              > two digit number (^[0-9]{2}$)\n",
    "       > five digit number (^[0-9]{5}$)"
   ]
  },
  {
   "cell_type": "code",
   "execution_count": 2,
   "metadata": {},
   "outputs": [
    {
     "name": "stdout",
     "output_type": "stream",
     "text": [
      "True\n",
      "False\n"
     ]
    }
   ],
   "source": [
    "# Function to test two digit number matching\n",
    "import re\n",
    "def twoDigitMatching(n):\n",
    "    pattern = '^[0-9]{2}$'\n",
    "    n = str(n)\n",
    "    if re.match(pattern,n):\n",
    "        return True\n",
    "    return False\n",
    "print(twoDigitMatching(12)) # True\n",
    "print(twoDigitMatching(123)) # False"
   ]
  },
  {
   "cell_type": "markdown",
   "metadata": {},
   "source": [
    "### Regular Expression for Characters\n"
   ]
  },
  {
   "cell_type": "code",
   "execution_count": 3,
   "metadata": {},
   "outputs": [
    {
     "name": "stdout",
     "output_type": "stream",
     "text": [
      "True\n",
      "False\n"
     ]
    }
   ],
   "source": [
    "# Function to define to test username having 8 characters\n",
    "# Upper case and Lower case\n",
    "def testUsername(s):\n",
    "    pattern = '^[a-zA-Z]{8}$'\n",
    "    if re.match(pattern,s):\n",
    "        return True\n",
    "    return False\n",
    "print(testUsername('GitamHYD'))\n",
    "print(testUsername('Gitam188'))"
   ]
  },
  {
   "cell_type": "markdown",
   "metadata": {},
   "source": [
    "### Regular Expression to match the Indian Mobile Number\n",
    " - 10 digits\n",
    " - (First digit will be [6-9] and remaining 9 digits will be [0-9]\n",
    " - Example :- 9987654321\n",
    " - Re - ^[6-9][0-9]{9}$\n",
    " - Example :- 09977553311"
   ]
  },
  {
   "cell_type": "code",
   "execution_count": 5,
   "metadata": {},
   "outputs": [
    {
     "data": {
      "text/plain": [
       "True"
      ]
     },
     "execution_count": 5,
     "metadata": {},
     "output_type": "execute_result"
    }
   ],
   "source": [
    "def phoneNumberValidation(phone):\n",
    "    pattern = '^[6-9][0-9]{9}$|^[+][9][1][6-9][0-9]{9}$'\n",
    "    phone = str(phone)\n",
    "    if re.match(pattern,phone):\n",
    "        return True \n",
    "    return False\n",
    "phoneNumberValidation('+917032558268')"
   ]
  },
  {
   "cell_type": "markdown",
   "metadata": {},
   "source": [
    " - Regular Expression to Validate the RollNumber\n",
    "    - Example : 1521A0501\n",
    "    - Example : 1521A0109\n",
    "    - Example : 1521A0499\n",
    " - Regular Expression to validate the password\n",
    "    - Parameters 'Len min of 6 charcaters and max of 15 characters\n",
    "    - Accept Lower case, Upper case , Digits spl char (@,#,!)"
   ]
  },
  {
   "cell_type": "markdown",
   "metadata": {},
   "source": [
    "### Email Id validation using Regular Expression\n",
    " - Example :- Username@DomainName.extension\n",
    " - Username :- \n",
    "      - Length will be [6-15]\n",
    "      - No spls characters apart from Underscore(_)\n",
    "      - Should not begin and end with Underscore(_)\n",
    "      - character Set : All digits and Lower case\n",
    " - DomainName :-\n",
    "      - Length will be [3-18]\n",
    "      - no spl characters\n",
    "      - Character Set : Lower case characters\n",
    " - Extension :-\n",
    "      - Length will be [2-4]\n",
    "      - No spl characters\n",
    "      - Character Set : Lower case characters"
   ]
  },
  {
   "cell_type": "code",
   "execution_count": 10,
   "metadata": {},
   "outputs": [
    {
     "data": {
      "text/plain": [
       "True"
      ]
     },
     "execution_count": 10,
     "metadata": {},
     "output_type": "execute_result"
    }
   ],
   "source": [
    "def emailIdValidation(email):\n",
    "    pattern = '^[0-9a-z][0-9a-z_.]{5,14}[@][a-z0-9]{3,18}[.][a-z]{2,4}$'\n",
    "    if re.match(pattern,email):\n",
    "        return True\n",
    "    return False\n",
    "emailIdValidation('anusha19@gmail.com')"
   ]
  },
  {
   "cell_type": "markdown",
   "metadata": {},
   "source": []
  },
  {
   "cell_type": "markdown",
   "metadata": {},
   "source": [
    "### Python Turtle \n",
    " - Turtle Graphics"
   ]
  },
  {
   "cell_type": "code",
   "execution_count": 19,
   "metadata": {},
   "outputs": [],
   "source": [
    "# Step 1 : Make all the turtle package to be imported\n",
    "import turtle\n",
    "#Turtle method creates and returns a new object\n",
    "a1 = turtle.Turtle()\n",
    "#forward()method moves 100 pixels\n",
    "turtle.forward(250)\n",
    "#We are done\n",
    "turtle.done()"
   ]
  },
  {
   "cell_type": "code",
   "execution_count": 1,
   "metadata": {},
   "outputs": [],
   "source": [
    "# Line draw in reverse direction\n",
    "import turtle as tt\n",
    "a1=tt.Turtle()\n",
    "a1.backward(100)\n",
    "tt.done()"
   ]
  },
  {
   "cell_type": "code",
   "execution_count": 1,
   "metadata": {},
   "outputs": [],
   "source": [
    "# Draw square\n",
    "import turtle as tt\n",
    "a1=tt.Turtle()\n",
    "a1.forward(150)\n",
    "a1.right(90)\n",
    "a1.forward(150)\n",
    "a1.right(90)\n",
    "a1.forward(150)\n",
    "a1.right(90)\n",
    "a1.forward(150)\n",
    "a1.right(90)\n",
    "tt.done()"
   ]
  },
  {
   "cell_type": "code",
   "execution_count": 1,
   "metadata": {},
   "outputs": [],
   "source": [
    "# Draw reverse square\n",
    "import turtle as tt\n",
    "a1=tt.Turtle()\n",
    "a1.backward(150)\n",
    "a1.left(90)\n",
    "a1.backward(150)\n",
    "a1.left(90)\n",
    "a1.backward(150)\n",
    "a1.left(90)\n",
    "a1.backward(150)\n",
    "a1.left(90)\n",
    "tt.done()"
   ]
  },
  {
   "cell_type": "code",
   "execution_count": 1,
   "metadata": {},
   "outputs": [],
   "source": [
    "# Loop Statement\n",
    "import turtle as t\n",
    "aa=t.Turtle()\n",
    "for i in range(4):\n",
    "    aa.backward(150)\n",
    "    aa.left(90)\n",
    "t.done()    "
   ]
  },
  {
   "cell_type": "code",
   "execution_count": 1,
   "metadata": {
    "scrolled": true
   },
   "outputs": [],
   "source": [
    "import turtle as t\n",
    "aa=t.Turtle()\n",
    "for i in range(4):\n",
    "    aa.forward(150)\n",
    "    aa.right(90)\n",
    "t.done()"
   ]
  },
  {
   "cell_type": "code",
   "execution_count": null,
   "metadata": {},
   "outputs": [],
   "source": [
    "# Spiralingstar\n",
    "import turtle as t\n",
    "a1=t.Turtle()\n",
    "a1.pencolor('blue')\n",
    "for i in range(40):\n",
    "    a1.forward(i*10)\n",
    "    a1.right(144)\n",
    "t.done()"
   ]
  },
  {
   "cell_type": "code",
   "execution_count": null,
   "metadata": {},
   "outputs": [],
   "source": [
    "# Square apiral help of turtle\n",
    "import turtle as t\n",
    "a1=t.Turtle()\n",
    "a1.pencolor('purple')\n",
    "for i in range(250):\n",
    "    a1.forward(i)\n",
    "    a1.left(91)\n",
    "t.done()"
   ]
  },
  {
   "cell_type": "code",
   "execution_count": 1,
   "metadata": {},
   "outputs": [],
   "source": [
    "# Hexagon with Multi color\n",
    "from turtle import *\n",
    "colors = ['blue','green','yellow','orange','purple','red']\n",
    "for x in range(360):\n",
    "    pencolor(colors[x%6])\n",
    "    width(x/100 + 1)\n",
    "    forward(x)\n",
    "    left(59)"
   ]
  },
  {
   "cell_type": "code",
   "execution_count": 1,
   "metadata": {},
   "outputs": [],
   "source": [
    "#setheading(heading)\n",
    "#will change the current direction to the heading angle\n",
    "from turtle import *\n",
    "colors=['Blue','Green','Yellow','Orange','Purple','Red']\n",
    "for angle in range(0,360,15):\n",
    "    pencolor(colors[angle%6])\n",
    "    setheading(angle)\n",
    "    forward(100)\n",
    "    write(str(angle)+'o')\n",
    "    backward(100)"
   ]
  },
  {
   "cell_type": "code",
   "execution_count": 1,
   "metadata": {},
   "outputs": [],
   "source": [
    "#Undo() function will undo the turtle last action\n",
    "from turtle import *\n",
    "for i in range(15):\n",
    "    forward(100)\n",
    "    left(90)\n",
    "    forward(10)\n",
    "    left(90)\n",
    "    forward(100)\n",
    "    right(90)\n",
    "    forward(10)\n",
    "    right(90)\n",
    "pencolor('red')\n",
    "for i in range(90):\n",
    "    undo()"
   ]
  },
  {
   "cell_type": "code",
   "execution_count": null,
   "metadata": {},
   "outputs": [],
   "source": [
    "import turtle as tt\n",
    "a1=tt.Turtle()\n",
    "a1.forward(100)\n",
    "a1.right(120)\n",
    "a1.forward(100)\n",
    "a1.right(120)\n",
    "a1.forward(100)\n",
    "a1.right(120)\n",
    "a1.forward(100)\n",
    "a1.right(120)\n",
    "tt.done()"
   ]
  },
  {
   "cell_type": "code",
   "execution_count": null,
   "metadata": {},
   "outputs": [],
   "source": [
    "# draw rectangle\n",
    "import turtle as tt\n",
    "a1=tt.Turtle()\n",
    "a1.backward(350)\n",
    "a1.left(90)\n",
    "a1.forward(150)\n",
    "a1.left(90)\n",
    "a1.backward(350)\n",
    "a1.left(90)\n",
    "a1.forward(150)\n",
    "a1.right(90)\n",
    "tt.done()"
   ]
  },
  {
   "cell_type": "code",
   "execution_count": 1,
   "metadata": {},
   "outputs": [],
   "source": [
    "import turtle\n",
    " \n",
    "t = turtle.Turtle()\n",
    "t.fillcolor('blue')\n",
    "t.begin_fill()\n",
    "for i in range(4):\n",
    "  t.forward(150)\n",
    "  t.right(90)\n",
    "t.end_fill()"
   ]
  },
  {
   "cell_type": "code",
   "execution_count": 1,
   "metadata": {},
   "outputs": [],
   "source": [
    "import turtle as t\n",
    "a1=t.Turtle()\n",
    "a1.pencolor('blue')\n",
    "a1.fillcolor('orange')\n",
    "a1.begin_fill()\n",
    "a1.forward(250)\n",
    "a1.right(90)\n",
    "a1.forward(150)\n",
    "a1.right(90)\n",
    "a1.forward(250)\n",
    "a1.right(90)\n",
    "a1.forward(150)\n",
    "a1.right(90)\n",
    "a1.end_fill()"
   ]
  },
  {
   "cell_type": "code",
   "execution_count": 1,
   "metadata": {},
   "outputs": [],
   "source": [
    "import turtle \n",
    "t = turtle.Turtle()\n",
    "t.fillcolor('blue')\n",
    "t.begin_fill()\n",
    "t.circle(100)\n",
    "t.end_fill()"
   ]
  },
  {
   "cell_type": "code",
   "execution_count": null,
   "metadata": {},
   "outputs": [],
   "source": [
    "# Generate a Rectangle\n",
    "# Generate a circle\n",
    "# Fill the colors into rectangles and circles\n",
    "# fillcolor('color')\n",
    "# Generate some stars\n",
    "# stamp()"
   ]
  },
  {
   "cell_type": "code",
   "execution_count": 1,
   "metadata": {},
   "outputs": [],
   "source": [
    "# Generate the symbols \n",
    "from turtle  import *\n",
    "colors = ['purple' , 'green' , 'blue' , 'orange' , 'pink' , 'red']\n",
    "reset()\n",
    "up()\n",
    "goto(-320,-195)\n",
    "width(90)\n",
    "for pcolor in colors:\n",
    "    color(pcolor)\n",
    "    down()\n",
    "    forward(750)\n",
    "    up()\n",
    "    backward(750)\n",
    "    left(90)\n",
    "    forward(100)\n",
    "    right(90)\n",
    "width(55)\n",
    "color('white')\n",
    "goto(0,-170)\n",
    "down()\n",
    "\n",
    "circle(170)\n",
    "left(90)\n",
    "forward(340)\n",
    "up()\n",
    "left(180)\n",
    "forward(170)\n",
    "up()\n",
    "backward(170)\n",
    "left(90)\n",
    "down()\n",
    "forward(170)\n",
    "up()\n",
    "goto(0,300)"
   ]
  },
  {
   "cell_type": "code",
   "execution_count": 1,
   "metadata": {},
   "outputs": [
    {
     "data": {
      "text/plain": [
       "<function turtle.end_fill()>"
      ]
     },
     "execution_count": 1,
     "metadata": {},
     "output_type": "execute_result"
    }
   ],
   "source": [
    "from turtle import * \n",
    "fillcolor('orange')\n",
    "pensize('10')\n",
    "pencolor('black')\n",
    "begin_fill()\n",
    "circle(150)\n",
    "end_fill\n",
    "\n"
   ]
  },
  {
   "cell_type": "code",
   "execution_count": null,
   "metadata": {},
   "outputs": [],
   "source": []
  }
 ],
 "metadata": {
  "kernelspec": {
   "display_name": "Python 3",
   "language": "python",
   "name": "python3"
  },
  "language_info": {
   "codemirror_mode": {
    "name": "ipython",
    "version": 3
   },
   "file_extension": ".py",
   "mimetype": "text/x-python",
   "name": "python",
   "nbconvert_exporter": "python",
   "pygments_lexer": "ipython3",
   "version": "3.7.3"
  }
 },
 "nbformat": 4,
 "nbformat_minor": 2
}
